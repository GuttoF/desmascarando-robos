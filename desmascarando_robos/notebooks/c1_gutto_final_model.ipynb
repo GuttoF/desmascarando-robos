{
 "cells": [
  {
   "cell_type": "markdown",
   "metadata": {},
   "source": [
    "# Desmascarando Robôs\n",
    "### CRISP-DM Cycle 1\n",
    "---\n",
    "\n",
    "Imagine um mercado online, um palco digital onde diversos leilões se desenrolam a cada segundo. Neste ambiente, participantes do mundo inteiram lançam seus lances em busca de objetos desejados, desde joias até equipamentos tecnológicos. No entanto, nem todos os jogadores neste campo são humanos; alguns são robôs programados para manipular os resultados dos leilões.\n",
    "\n",
    "Seu desafio é se aprofundar nesses dados, explorar as camadas de atividade nos leilões e conseguir construir um modelo que saiba muito bem diferenciar humanos de robôs.\n",
    "\n",
    "> Disclaimer: This is a fictional bussiness cas"
   ]
  },
  {
   "cell_type": "markdown",
   "metadata": {},
   "source": [
    "## 0. PREPARATION"
   ]
  },
  {
   "cell_type": "markdown",
   "metadata": {},
   "source": [
    "### 0.1 Settings"
   ]
  },
  {
   "cell_type": "code",
   "execution_count": 1,
   "metadata": {},
   "outputs": [],
   "source": [
    "# Settings imports\n",
    "import os\n",
    "import sys\n",
    "import pandas as pd\n",
    "from dotenv import load_dotenv\n",
    "\n",
    "# Load .env file\n",
    "env_path = \"../.env\"\n",
    "load_dotenv(dotenv_path=env_path)\n",
    "\n",
    "# Seed\n",
    "seed = int(os.getenv(\"SEED\"))\n",
    "\n",
    "# Add path\n",
    "path = os.getenv(\"HOMEPATH\")\n",
    "\n",
    "# Add path to sys.path\n",
    "sys.path.append(path)"
   ]
  },
  {
   "cell_type": "code",
   "execution_count": 2,
   "metadata": {},
   "outputs": [],
   "source": [
    "from catboost import CatBoostClassifier"
   ]
  },
  {
   "cell_type": "code",
   "execution_count": 3,
   "metadata": {},
   "outputs": [
    {
     "name": "stderr",
     "output_type": "stream",
     "text": [
      "/Users/guttofranca/Repos/desmascarando-robos/.venv/lib/python3.12/site-packages/tqdm/auto.py:21: TqdmWarning: IProgress not found. Please update jupyter and ipywidgets. See https://ipywidgets.readthedocs.io/en/stable/user_install.html\n",
      "  from .autonotebook import tqdm as notebook_tqdm\n"
     ]
    }
   ],
   "source": [
    "from helper.classes.FeatureEngineering import FeatureEngineering\n",
    "from helper.classes.Predictions import Predictions"
   ]
  },
  {
   "cell_type": "markdown",
   "metadata": {},
   "source": [
    "### 0.2 Data"
   ]
  },
  {
   "cell_type": "markdown",
   "metadata": {},
   "source": [
    "**Train e Test**\n",
    "\n",
    "- **id_participante**: Identificador único do participante\n",
    "- **conta_pagamento**: Conta de pagamento associada ao participante (com o valor ocultado) # Não será utilizada\n",
    "- **endereco**: Endereço postal do participante # Não será utilizada\n",
    "- **resultado**: A variável alvo que identifica se o participante é um robô ou um humano. (Robô = 1 e Humano = 0). (*target*)\n",
    "\n",
    "- **Robôs Confirmados**: Participantes com provas claras de atividades fraudulentas, resultando em banimento da plataforma. São rotulados como robôs no conjunto de dados (resultado = 1).\n",
    "\n",
    "- **Robôs Suspeitos**: Participantes com atividades atípicas ou estatísticas que superam a média, mas sem provas definitivas de fraude. A classificação deles como robôs é incerta.\n",
    "\n",
    "**Lances**\n",
    "\n",
    "- **id_lance**: Identificador único do lance\n",
    "- **id_participante**: Identificador único do participante\n",
    "- **leilao**: Identificador único do leilão \n",
    "- **mercadoria**: A categoria da mercadoria leiloada\n",
    "- **dispositivo**: O dispositivo utilizado pelo visitante\n",
    "- **tempo**: O tempo que o lance foi feito\n",
    "- **pais**: O país que o IP pertence\n",
    "- **ip**: O IP do participante\n",
    "- **url**: A URL de onde o participante foi referido"
   ]
  },
  {
   "cell_type": "markdown",
   "metadata": {},
   "source": [
    "## 1. Modelling"
   ]
  },
  {
   "cell_type": "markdown",
   "metadata": {},
   "source": [
    "### 1.1 Loading Data"
   ]
  },
  {
   "cell_type": "code",
   "execution_count": 4,
   "metadata": {},
   "outputs": [],
   "source": [
    "X_train = pd.read_feather(path + \"/data/processed/X_train.feather\")\n",
    "X_test = pd.read_feather(path + \"/data/processed/X_test.feather\")\n",
    "X_val = pd.read_feather(path + \"/data/processed/X_val.feather\")\n",
    "\n",
    "y_train = pd.read_pickle(path + \"/data/processed/y_train.pkl\")\n",
    "y_test = pd.read_pickle(path + \"/data/processed/y_test.pkl\")\n",
    "y_val = pd.read_pickle(path + \"/data/processed/y_val.pkl\")\n",
    "\n",
    "X = pd.concat([X_train, X_test, X_val], axis=0)\n",
    "y = pd.concat([y_train, y_test, y_val], axis=0)\n",
    "\n",
    "test = pd.read_feather(path + \"/data/processed/final_test.feather\")\n",
    "\n",
    "X.drop(\n",
    "    columns=[\n",
    "        \"pais\",\n",
    "        \"url\",\n",
    "        \"endereco\",\n",
    "        \"dispositivo\",\n",
    "        \"leilao\",\n",
    "        \"periodo_dia\",\n",
    "        \"mercadoria\",\n",
    "        \"conta_pagamento\",\n",
    "    ],\n",
    "    inplace=True,\n",
    ")"
   ]
  },
  {
   "cell_type": "code",
   "execution_count": 5,
   "metadata": {},
   "outputs": [],
   "source": [
    "feature_transformations = {\n",
    "    \"log\": [\n",
    "        \"contagem_participante\",\n",
    "        \"contagem_leilao\",\n",
    "        \"contagem_conta_pagamento\",\n",
    "        \"frequencia_dispositivo\",\n",
    "    ],\n",
    "    # \"one_hot\": [\n",
    "    #    \"dispositivo\",\n",
    "    #    \"leilao\",\n",
    "    #    \"periodo_dia\",\n",
    "    #    \"mercadoria\",\n",
    "    #    \"conta_pagamento\",\n",
    "    # ],\n",
    "    \"ordinal\": [\"ip_classe\"],\n",
    "    # \"hashing\": [\"pais\", \"url\", \"endereco\"],\n",
    "    \"min_max_scaler\": [\n",
    "        \"hora_sin\",\n",
    "        \"hora_cos\",\n",
    "        \"minuto_sin\",\n",
    "        \"minuto_cos\",\n",
    "        \"segundo_sin\",\n",
    "        \"segundo_cos\",\n",
    "    ],\n",
    "    \"robust_scaler\": [\"hora\", \"minuto\", \"segundo\"],\n",
    "}\n",
    "\n",
    "\n",
    "proportion = float(len(y_train[y_train == 0])) / len(y_train[y_train == 1])\n",
    "\n",
    "model = CatBoostClassifier(\n",
    "    iterations=905,\n",
    "    depth=9,\n",
    "    learning_rate=0.0032193578881126797,\n",
    "    random_strength=0.05022200281503645,\n",
    "    bagging_temperature=0.5648259544017337,\n",
    "    border_count=1,\n",
    "    scale_pos_weight=proportion,\n",
    "    random_state=seed,\n",
    "    verbose=0,\n",
    ")"
   ]
  },
  {
   "cell_type": "code",
   "execution_count": 6,
   "metadata": {},
   "outputs": [
    {
     "name": "stdout",
     "output_type": "stream",
     "text": [
      "Training model CatBoostClassifier...\n",
      "Starting fit_transform...\n",
      "Transformers configured.\n",
      "ColumnTransformer created.\n",
      "fit_transform completed.\n",
      "Model CatBoostClassifier trained.\n",
      "Adding predictions to DataFrame...\n",
      "Starting transform...\n",
      "transform completed.\n",
      "Predictions added to DataFrame.\n"
     ]
    }
   ],
   "source": [
    "\n",
    "final_pipeline = Predictions(feature_transformations, model)\n",
    "final_pipeline.fit(X, y)\n",
    "test = final_pipeline.add_predictions(test)"
   ]
  },
  {
   "cell_type": "code",
   "execution_count": 7,
   "metadata": {},
   "outputs": [
    {
     "name": "stderr",
     "output_type": "stream",
     "text": [
      "/var/folders/k8/xr4_svzj4l705syzgn21x_500000gn/T/ipykernel_23354/1685982309.py:2: SettingWithCopyWarning: \n",
      "A value is trying to be set on a copy of a slice from a DataFrame\n",
      "\n",
      "See the caveats in the documentation: https://pandas.pydata.org/pandas-docs/stable/user_guide/indexing.html#returning-a-view-versus-a-copy\n",
      "  df_test.rename(columns={\"predicao\": \"resultado\"}, inplace=True)\n"
     ]
    }
   ],
   "source": [
    "df_test = test[[\"id_participante\", \"predicao\"]]\n",
    "df_test.rename(columns={\"predicao\": \"resultado\"}, inplace=True)\n",
    "df_test[\"resultado\"].drop_duplicates()\n",
    "df_test.to_csv(path + \"/data/processed/predicao.csv\", index=False)"
   ]
  },
  {
   "cell_type": "code",
   "execution_count": 8,
   "metadata": {},
   "outputs": [],
   "source": [
    "#test[['id_participante', 'predicao']].to_csv(path + \"/data/processed/predicao.csv\", index=False)"
   ]
  },
  {
   "cell_type": "code",
   "execution_count": null,
   "metadata": {},
   "outputs": [],
   "source": []
  },
  {
   "cell_type": "code",
   "execution_count": null,
   "metadata": {},
   "outputs": [],
   "source": []
  }
 ],
 "metadata": {
  "kernelspec": {
   "display_name": ".venv",
   "language": "python",
   "name": "python3"
  },
  "language_info": {
   "codemirror_mode": {
    "name": "ipython",
    "version": 3
   },
   "file_extension": ".py",
   "mimetype": "text/x-python",
   "name": "python",
   "nbconvert_exporter": "python",
   "pygments_lexer": "ipython3",
   "version": "3.12.2"
  }
 },
 "nbformat": 4,
 "nbformat_minor": 2
}
