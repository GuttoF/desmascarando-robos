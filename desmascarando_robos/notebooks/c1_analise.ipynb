{
 "cells": [
  {
   "cell_type": "markdown",
   "metadata": {},
   "source": [
    "# Desmascarando Robôs\n",
    "### CRISP-DM Cycle 1\n",
    "---\n",
    "\n",
    "Imagine um mercado online, um palco digital onde diversos leilões se desenrolam a cada segundo. Neste ambiente, participantes do mundo inteiram lançam seus lances em busca de objetos desejados, desde joias até equipamentos tecnológicos. No entanto, nem todos os jogadores neste campo são humanos; alguns são robôs programados para manipular os resultados dos leilões.\n",
    "\n",
    "Seu desafio é se aprofundar nesses dados, explorar as camadas de atividade nos leilões e conseguir construir um modelo que saiba muito bem diferenciar humanos de robôs.\n",
    "\n",
    "> Disclaimer: This is a fictional bussiness cas"
   ]
  },
  {
   "cell_type": "markdown",
   "metadata": {},
   "source": [
    "## 0. PREPARATION"
   ]
  },
  {
   "cell_type": "markdown",
   "metadata": {},
   "source": [
    "### 0.1 Settings"
   ]
  },
  {
   "cell_type": "code",
   "execution_count": 1,
   "metadata": {},
   "outputs": [],
   "source": [
    "# Settings imports\n",
    "import os\n",
    "import sys\n",
    "import pandas as pd\n",
    "from dotenv import load_dotenv\n",
    "\n",
    "# Load .env file\n",
    "env_path = \"../.env\"\n",
    "load_dotenv(dotenv_path=env_path)\n",
    "\n",
    "# Seed\n",
    "seed = int(os.getenv(\"SEED\"))\n",
    "\n",
    "# Add path\n",
    "path = os.getenv(\"HOMEPATH\")\n",
    "\n",
    "# Add path to sys.path\n",
    "sys.path.append(path)"
   ]
  },
  {
   "cell_type": "code",
   "execution_count": 2,
   "metadata": {},
   "outputs": [
    {
     "name": "stderr",
     "output_type": "stream",
     "text": [
      "/Users/guttofranca/Repos/desmascarando-robos/.venv/lib/python3.12/site-packages/tqdm/auto.py:21: TqdmWarning: IProgress not found. Please update jupyter and ipywidgets. See https://ipywidgets.readthedocs.io/en/stable/user_install.html\n",
      "  from .autonotebook import tqdm as notebook_tqdm\n"
     ]
    }
   ],
   "source": [
    "from helper.classes.FeatureEngineering import FeatureEngineering"
   ]
  },
  {
   "cell_type": "markdown",
   "metadata": {},
   "source": [
    "### 0.2 Data"
   ]
  },
  {
   "cell_type": "markdown",
   "metadata": {},
   "source": [
    "**Train e Test**\n",
    "\n",
    "- **id_participante**: Identificador único do participante\n",
    "- **conta_pagamento**: Conta de pagamento associada ao participante (com o valor ocultado) # Não será utilizada\n",
    "- **endereco**: Endereço postal do participante # Não será utilizada\n",
    "- **resultado**: A variável alvo que identifica se o participante é um robô ou um humano. (Robô = 1 e Humano = 0). (*target*)\n",
    "\n",
    "- **Robôs Confirmados**: Participantes com provas claras de atividades fraudulentas, resultando em banimento da plataforma. São rotulados como robôs no conjunto de dados (resultado = 1).\n",
    "\n",
    "- **Robôs Suspeitos**: Participantes com atividades atípicas ou estatísticas que superam a média, mas sem provas definitivas de fraude. A classificação deles como robôs é incerta.\n",
    "\n",
    "**Lances**\n",
    "\n",
    "- **id_lance**: Identificador único do lance\n",
    "- **id_participante**: Identificador único do participante\n",
    "- **leilao**: Identificador único do leilão \n",
    "- **mercadoria**: A categoria da mercadoria leiloada\n",
    "- **dispositivo**: O dispositivo utilizado pelo visitante\n",
    "- **tempo**: O tempo que o lance foi feito\n",
    "- **pais**: O país que o IP pertence\n",
    "- **ip**: O IP do participante\n",
    "- **url**: A URL de onde o participante foi referido"
   ]
  },
  {
   "cell_type": "markdown",
   "metadata": {},
   "source": [
    "## 1. DATA UNDERSTANDING"
   ]
  },
  {
   "cell_type": "markdown",
   "metadata": {},
   "source": [
    "### 1.1 Loading Data"
   ]
  },
  {
   "cell_type": "code",
   "execution_count": 3,
   "metadata": {},
   "outputs": [],
   "source": [
    "train = pd.read_feather(path + \"/data/raw/train.feather\")\n",
    "test = pd.read_feather(path + \"/data/raw/test.feather\")\n",
    "lances = pd.read_feather(path + \"/data/raw/lances.feather\")"
   ]
  },
  {
   "cell_type": "code",
   "execution_count": 4,
   "metadata": {},
   "outputs": [
    {
     "data": {
      "text/html": [
       "<div>\n",
       "<style scoped>\n",
       "    .dataframe tbody tr th:only-of-type {\n",
       "        vertical-align: middle;\n",
       "    }\n",
       "\n",
       "    .dataframe tbody tr th {\n",
       "        vertical-align: top;\n",
       "    }\n",
       "\n",
       "    .dataframe thead th {\n",
       "        text-align: right;\n",
       "    }\n",
       "</style>\n",
       "<table border=\"1\" class=\"dataframe\">\n",
       "  <thead>\n",
       "    <tr style=\"text-align: right;\">\n",
       "      <th></th>\n",
       "      <th>255</th>\n",
       "    </tr>\n",
       "  </thead>\n",
       "  <tbody>\n",
       "    <tr>\n",
       "      <th>id_participante</th>\n",
       "      <td>78c82f2e8764bc8001354128f9265efcqrthe</td>\n",
       "    </tr>\n",
       "    <tr>\n",
       "      <th>conta_pagamento</th>\n",
       "      <td>a3d2de7675556553a5f08e4c88d2c228gddke</td>\n",
       "    </tr>\n",
       "    <tr>\n",
       "      <th>endereco</th>\n",
       "      <td>4d68244a309b50de2c062ffed43b4e46gsu1a</td>\n",
       "    </tr>\n",
       "    <tr>\n",
       "      <th>resultado</th>\n",
       "      <td>0</td>\n",
       "    </tr>\n",
       "  </tbody>\n",
       "</table>\n",
       "</div>"
      ],
      "text/plain": [
       "                                                   255\n",
       "id_participante  78c82f2e8764bc8001354128f9265efcqrthe\n",
       "conta_pagamento  a3d2de7675556553a5f08e4c88d2c228gddke\n",
       "endereco         4d68244a309b50de2c062ffed43b4e46gsu1a\n",
       "resultado                                            0"
      ]
     },
     "execution_count": 4,
     "metadata": {},
     "output_type": "execute_result"
    }
   ],
   "source": [
    "train.sample().T"
   ]
  },
  {
   "cell_type": "code",
   "execution_count": 5,
   "metadata": {},
   "outputs": [
    {
     "data": {
      "text/html": [
       "<div>\n",
       "<style scoped>\n",
       "    .dataframe tbody tr th:only-of-type {\n",
       "        vertical-align: middle;\n",
       "    }\n",
       "\n",
       "    .dataframe tbody tr th {\n",
       "        vertical-align: top;\n",
       "    }\n",
       "\n",
       "    .dataframe thead th {\n",
       "        text-align: right;\n",
       "    }\n",
       "</style>\n",
       "<table border=\"1\" class=\"dataframe\">\n",
       "  <thead>\n",
       "    <tr style=\"text-align: right;\">\n",
       "      <th></th>\n",
       "      <th>161</th>\n",
       "    </tr>\n",
       "  </thead>\n",
       "  <tbody>\n",
       "    <tr>\n",
       "      <th>id_participante</th>\n",
       "      <td>74fc24cafc7c5936d0422b8da306365byjv2b</td>\n",
       "    </tr>\n",
       "    <tr>\n",
       "      <th>conta_pagamento</th>\n",
       "      <td>a3d2de7675556553a5f08e4c88d2c228npq4w</td>\n",
       "    </tr>\n",
       "    <tr>\n",
       "      <th>endereco</th>\n",
       "      <td>a3d2de7675556553a5f08e4c88d2c228br8mc</td>\n",
       "    </tr>\n",
       "  </tbody>\n",
       "</table>\n",
       "</div>"
      ],
      "text/plain": [
       "                                                   161\n",
       "id_participante  74fc24cafc7c5936d0422b8da306365byjv2b\n",
       "conta_pagamento  a3d2de7675556553a5f08e4c88d2c228npq4w\n",
       "endereco         a3d2de7675556553a5f08e4c88d2c228br8mc"
      ]
     },
     "execution_count": 5,
     "metadata": {},
     "output_type": "execute_result"
    }
   ],
   "source": [
    "test.sample().T"
   ]
  },
  {
   "cell_type": "code",
   "execution_count": 6,
   "metadata": {},
   "outputs": [
    {
     "data": {
      "text/html": [
       "<div>\n",
       "<style scoped>\n",
       "    .dataframe tbody tr th:only-of-type {\n",
       "        vertical-align: middle;\n",
       "    }\n",
       "\n",
       "    .dataframe tbody tr th {\n",
       "        vertical-align: top;\n",
       "    }\n",
       "\n",
       "    .dataframe thead th {\n",
       "        text-align: right;\n",
       "    }\n",
       "</style>\n",
       "<table border=\"1\" class=\"dataframe\">\n",
       "  <thead>\n",
       "    <tr style=\"text-align: right;\">\n",
       "      <th></th>\n",
       "      <th>4903620</th>\n",
       "    </tr>\n",
       "  </thead>\n",
       "  <tbody>\n",
       "    <tr>\n",
       "      <th>id_lance</th>\n",
       "      <td>7254807</td>\n",
       "    </tr>\n",
       "    <tr>\n",
       "      <th>id_participante</th>\n",
       "      <td>6ce7a9649fd80e83bc4a0e2764c55746vjsnt</td>\n",
       "    </tr>\n",
       "    <tr>\n",
       "      <th>leilao</th>\n",
       "      <td>jqx39</td>\n",
       "    </tr>\n",
       "    <tr>\n",
       "      <th>mercadoria</th>\n",
       "      <td>livros e música</td>\n",
       "    </tr>\n",
       "    <tr>\n",
       "      <th>dispositivo</th>\n",
       "      <td>phone36</td>\n",
       "    </tr>\n",
       "    <tr>\n",
       "      <th>tempo</th>\n",
       "      <td>9707040105263157</td>\n",
       "    </tr>\n",
       "    <tr>\n",
       "      <th>pais</th>\n",
       "      <td>bd</td>\n",
       "    </tr>\n",
       "    <tr>\n",
       "      <th>ip</th>\n",
       "      <td>57.101.190.69</td>\n",
       "    </tr>\n",
       "    <tr>\n",
       "      <th>url</th>\n",
       "      <td>vasstdc27m7nks3</td>\n",
       "    </tr>\n",
       "  </tbody>\n",
       "</table>\n",
       "</div>"
      ],
      "text/plain": [
       "                                               4903620\n",
       "id_lance                                       7254807\n",
       "id_participante  6ce7a9649fd80e83bc4a0e2764c55746vjsnt\n",
       "leilao                                           jqx39\n",
       "mercadoria                             livros e música\n",
       "dispositivo                                    phone36\n",
       "tempo                                 9707040105263157\n",
       "pais                                                bd\n",
       "ip                                       57.101.190.69\n",
       "url                                    vasstdc27m7nks3"
      ]
     },
     "execution_count": 6,
     "metadata": {},
     "output_type": "execute_result"
    }
   ],
   "source": [
    "lances.sample().T"
   ]
  },
  {
   "cell_type": "code",
   "execution_count": 7,
   "metadata": {},
   "outputs": [],
   "source": [
    "df_train = pd.merge(train, lances, on=\"id_participante\", how=\"inner\")\n",
    "df_test = pd.merge(test, lances, on=\"id_participante\", how=\"inner\")"
   ]
  },
  {
   "cell_type": "markdown",
   "metadata": {},
   "source": [
    "### 1.2 Verify NA"
   ]
  },
  {
   "cell_type": "code",
   "execution_count": 8,
   "metadata": {},
   "outputs": [
    {
     "data": {
      "text/plain": [
       "id_participante       0\n",
       "conta_pagamento       0\n",
       "endereco              0\n",
       "resultado             0\n",
       "id_lance              0\n",
       "leilao                0\n",
       "mercadoria            0\n",
       "dispositivo           0\n",
       "tempo                 0\n",
       "pais               2236\n",
       "ip                    0\n",
       "url                   0\n",
       "dtype: int64"
      ]
     },
     "execution_count": 8,
     "metadata": {},
     "output_type": "execute_result"
    }
   ],
   "source": [
    "df_train.isna().sum()"
   ]
  },
  {
   "cell_type": "code",
   "execution_count": 9,
   "metadata": {},
   "outputs": [
    {
     "data": {
      "text/plain": [
       "id_participante      0\n",
       "conta_pagamento      0\n",
       "endereco             0\n",
       "id_lance             0\n",
       "leilao               0\n",
       "mercadoria           0\n",
       "dispositivo          0\n",
       "tempo                0\n",
       "pais               465\n",
       "ip                   0\n",
       "url                  0\n",
       "dtype: int64"
      ]
     },
     "execution_count": 9,
     "metadata": {},
     "output_type": "execute_result"
    }
   ],
   "source": [
    "df_test.isna().sum()"
   ]
  },
  {
   "cell_type": "markdown",
   "metadata": {},
   "source": [
    "Inicialmente, irei remover os valores nulos."
   ]
  },
  {
   "cell_type": "code",
   "execution_count": 10,
   "metadata": {},
   "outputs": [],
   "source": [
    "for data in [df_train, df_test]:\n",
    "    data.dropna(inplace=True)"
   ]
  },
  {
   "cell_type": "code",
   "execution_count": 11,
   "metadata": {},
   "outputs": [
    {
     "data": {
      "text/plain": [
       "id_participante    0\n",
       "conta_pagamento    0\n",
       "endereco           0\n",
       "resultado          0\n",
       "id_lance           0\n",
       "leilao             0\n",
       "mercadoria         0\n",
       "dispositivo        0\n",
       "tempo              0\n",
       "pais               0\n",
       "ip                 0\n",
       "url                0\n",
       "dtype: int64"
      ]
     },
     "execution_count": 11,
     "metadata": {},
     "output_type": "execute_result"
    }
   ],
   "source": [
    "df_train.isna().sum()"
   ]
  },
  {
   "cell_type": "code",
   "execution_count": 12,
   "metadata": {},
   "outputs": [
    {
     "data": {
      "text/plain": [
       "id_participante    0\n",
       "conta_pagamento    0\n",
       "endereco           0\n",
       "id_lance           0\n",
       "leilao             0\n",
       "mercadoria         0\n",
       "dispositivo        0\n",
       "tempo              0\n",
       "pais               0\n",
       "ip                 0\n",
       "url                0\n",
       "dtype: int64"
      ]
     },
     "execution_count": 12,
     "metadata": {},
     "output_type": "execute_result"
    }
   ],
   "source": [
    "df_test.isna().sum()"
   ]
  },
  {
   "cell_type": "markdown",
   "metadata": {},
   "source": [
    "### 1.3 Data Shape"
   ]
  },
  {
   "cell_type": "code",
   "execution_count": 13,
   "metadata": {},
   "outputs": [
    {
     "name": "stdout",
     "output_type": "stream",
     "text": [
      "Train:\n",
      "O dataset possui 2532089 linhas e 12 colunas\n",
      "\n",
      "Test:\n",
      "O dataset possui 536434 linhas e 11 colunas\n"
     ]
    }
   ],
   "source": [
    "print(\n",
    "    f\"Train:\\nO dataset possui {df_train.shape[0]} linhas e {df_train.shape[1]} colunas\\n\"\n",
    ")\n",
    "print(f\"Test:\\nO dataset possui {df_test.shape[0]} linhas e {df_test.shape[1]} colunas\")"
   ]
  },
  {
   "cell_type": "markdown",
   "metadata": {},
   "source": [
    "### 1.4 Unique Values"
   ]
  },
  {
   "cell_type": "markdown",
   "metadata": {},
   "source": [
    "Utilizarei apenas os dados de treino aqui, se existem vários valores únicos em treino, existem em teste."
   ]
  },
  {
   "cell_type": "code",
   "execution_count": 14,
   "metadata": {},
   "outputs": [
    {
     "name": "stdout",
     "output_type": "stream",
     "text": [
      "Valores únicos em Train[id_participante]: \u001b[1m1393\u001b[0m valores\n",
      "Valores únicos em Test[id_participante]: \u001b[1m590\u001b[0m valores\n",
      "Valores únicos em Train[conta_pagamento]: \u001b[1m1393\u001b[0m valores\n",
      "Valores únicos em Test[conta_pagamento]: \u001b[1m590\u001b[0m valores\n",
      "Valores únicos em Train[endereco]: \u001b[1m1393\u001b[0m valores\n",
      "Valores únicos em Test[endereco]: \u001b[1m590\u001b[0m valores\n",
      "Valores únicos em Train[id_lance]: \u001b[1m2532089\u001b[0m valores\n",
      "Valores únicos em Test[id_lance]: \u001b[1m536434\u001b[0m valores\n",
      "Valores únicos em Train[leilao]: \u001b[1m12199\u001b[0m valores\n",
      "Valores únicos em Test[leilao]: \u001b[1m7707\u001b[0m valores\n",
      "Valores únicos em Train[mercadoria]: \u001b[1m9\u001b[0m valores\n",
      "Valores únicos em Test[mercadoria]: \u001b[1m8\u001b[0m valores\n",
      "Valores únicos em Train[dispositivo]: \u001b[1m5391\u001b[0m valores\n",
      "Valores únicos em Test[dispositivo]: \u001b[1m3477\u001b[0m valores\n",
      "Valores únicos em Train[tempo]: \u001b[1m720004\u001b[0m valores\n",
      "Valores únicos em Test[tempo]: \u001b[1m367521\u001b[0m valores\n",
      "Valores únicos em Train[pais]: \u001b[1m198\u001b[0m valores\n",
      "Valores únicos em Test[pais]: \u001b[1m178\u001b[0m valores\n",
      "Valores únicos em Train[ip]: \u001b[1m855829\u001b[0m valores\n",
      "Valores únicos em Test[ip]: \u001b[1m226254\u001b[0m valores\n",
      "Valores únicos em Train[url]: \u001b[1m535408\u001b[0m valores\n",
      "Valores únicos em Test[url]: \u001b[1m131261\u001b[0m valores\n"
     ]
    }
   ],
   "source": [
    "# Código de escape ANSI para negrito\n",
    "negrito = \"\\033[1m\"\n",
    "reset = \"\\033[0m\"\n",
    "\n",
    "for col in df_test.columns:\n",
    "    print(f\"Valores únicos em Train[{col}]: {negrito}{df_train[col].nunique()}{reset} valores\")\n",
    "    print(f\"Valores únicos em Test[{col}]: {negrito}{df_test[col].nunique()}{reset} valores\")"
   ]
  },
  {
   "cell_type": "markdown",
   "metadata": {},
   "source": [
    "### 1.5 Data Types"
   ]
  },
  {
   "cell_type": "code",
   "execution_count": 15,
   "metadata": {},
   "outputs": [
    {
     "data": {
      "text/plain": [
       "id_participante    object\n",
       "conta_pagamento    object\n",
       "endereco           object\n",
       "resultado           int64\n",
       "id_lance            int64\n",
       "leilao             object\n",
       "mercadoria         object\n",
       "dispositivo        object\n",
       "tempo               int64\n",
       "pais               object\n",
       "ip                 object\n",
       "url                object\n",
       "dtype: object"
      ]
     },
     "execution_count": 15,
     "metadata": {},
     "output_type": "execute_result"
    }
   ],
   "source": [
    "df_train.dtypes"
   ]
  },
  {
   "cell_type": "code",
   "execution_count": 16,
   "metadata": {},
   "outputs": [
    {
     "data": {
      "text/plain": [
       "id_participante    object\n",
       "conta_pagamento    object\n",
       "endereco           object\n",
       "id_lance            int64\n",
       "leilao             object\n",
       "mercadoria         object\n",
       "dispositivo        object\n",
       "tempo               int64\n",
       "pais               object\n",
       "ip                 object\n",
       "url                object\n",
       "dtype: object"
      ]
     },
     "execution_count": 16,
     "metadata": {},
     "output_type": "execute_result"
    }
   ],
   "source": [
    "df_test.dtypes"
   ]
  },
  {
   "cell_type": "code",
   "execution_count": 17,
   "metadata": {},
   "outputs": [],
   "source": [
    "# Converter tempo para datetime\n",
    "df_train[\"tempo\"] = pd.to_datetime(df_train[\"tempo\"])\n",
    "df_test[\"tempo\"] = pd.to_datetime(df_test[\"tempo\"])"
   ]
  },
  {
   "cell_type": "markdown",
   "metadata": {},
   "source": [
    "### 1.6 Tempo"
   ]
  },
  {
   "cell_type": "markdown",
   "metadata": {},
   "source": [
    "A coluna `tempo` precisa de um pouco de atenção, principalmente na conversão para datetime"
   ]
  },
  {
   "cell_type": "code",
   "execution_count": 18,
   "metadata": {},
   "outputs": [
    {
     "name": "stdout",
     "output_type": "stream",
     "text": [
      "Train Anos: [1970]\n",
      "Test Anos: [1970]\n",
      "Train Meses: [4]\n",
      "Test Meses: [4]\n",
      "Train Dias: [22 23 24]\n",
      "Test Dias: [22 23 24]\n"
     ]
    }
   ],
   "source": [
    "# Verificar se todas estão no mesmo ano\n",
    "print(f\"Train Anos: {df_train[\"tempo\"].dt.year.unique()}\")\n",
    "print(f\"Test Anos: {df_test[\"tempo\"].dt.year.unique()}\")\n",
    "\n",
    "# Verificar se todas estão no mesmo mês\n",
    "print(f\"Train Meses: {df_train[\"tempo\"].dt.month.unique()}\")\n",
    "print(f\"Test Meses: {df_test[\"tempo\"].dt.month.unique()}\")\n",
    "\n",
    "# Verificar se todas estão no mesmo dia\n",
    "print(f\"Train Dias: {df_train[\"tempo\"].dt.day.unique()}\")\n",
    "print(f\"Test Dias: {df_test[\"tempo\"].dt.day.unique()}\")"
   ]
  },
  {
   "cell_type": "markdown",
   "metadata": {},
   "source": [
    "O ano e o mês são os mesmos, então não precisamos deles. Usaremos isso no futuro."
   ]
  },
  {
   "cell_type": "markdown",
   "metadata": {},
   "source": [
    "### 1.7 Pais"
   ]
  },
  {
   "cell_type": "markdown",
   "metadata": {},
   "source": [
    "A coluna `pais` está utilizando a ISO 3166-1 alpha-2 para identificar os países com códigos de duas letras, irei atualizar todos para esse padrão."
   ]
  },
  {
   "cell_type": "code",
   "execution_count": 19,
   "metadata": {},
   "outputs": [
    {
     "data": {
      "text/plain": [
       "array(['Índia', 'tr', 'ro', 'my', 'br', 'ca', 'Indonésia',\n",
       "       'Estados Unidos', 'Tailândia', 'sg', 'cl', 'Rússia', 'bo', 'nl',\n",
       "       'at', 'se', 'si', 'bn', 'sz', 'de', 'lt', 'mx', 'ec', 'cz', 'fi',\n",
       "       'hr', 'Nigéria', 'ch', 'iq', 'África do Sul', 'gt', 'gh', 'gr',\n",
       "       'Paraguai', 'pl', 'ua', 'ke', 'bg', 'ie', 'rs', 'li', 'hu', 'ph',\n",
       "       'es', 'dk', 'nz', 'it', 'be', 'uk', 'cn', 'ar', 'mk', 'Austrália',\n",
       "       'sk', 'fr', 'no', 'vn', 'ni', 'pe', 'pk', 'dz', 'bd', 'kw', 'bh',\n",
       "       'sa', 'il', 'jo', 'tt', 'om', 'lk', 'pa', 'sv', 'lb', 'co', 'qa',\n",
       "       'ae', 'az', 'pr', 'ma', 'ge', 'ml', 'gq', 'zw', 'eg', 'et', 'dj',\n",
       "       'tg', 'eu', 'np', 'tz', 'sl', 'cm', 'zm', 'bj', 'lr', 'ga', 'bw',\n",
       "       'ug', 'mw', 'hk', 'cg', 'ne', 'mu', 'cd', 'mz', 'sn', 'na', 'ba',\n",
       "       'rw', 'lu', 'ao', 'tn', 'af', 'sr', 'jm', 'ir', 'Sudão', 'tj',\n",
       "       'ly', 've', 'gm', 'pt', 'mg', 'lv', 'tw', 'am', 'me', 'md', 'bf',\n",
       "       'mr', 'ee', 'cy', 'al', 'ls', 'so', 'ad', 'by', 'td', 'mc', 'is',\n",
       "       'mm', 'gl', 'mt', 'cf', 'jp', 'gu', 'sc', 'cv', 'uy', 'bb', 'bi',\n",
       "       'gn', 'bm', 'uz', 'kz', 'ht', 'ye', 'cr', 'kh', 'sb', 'ci', 'sy',\n",
       "       'mv', 'gb', 'pg', 'mp', 'pf', 'fj', 'ps', 'kr', 'la', 'hn', 'do',\n",
       "       'mn', 'kg', 'gy', 'tm', 'bt', 'ws', 'bz', 're', 'dm', 'ag', 'bs',\n",
       "       'tl', 'mo', 'mh', 'je', 'aw', 'vi', 'nc', 'tc', 'fo', 'gp', 'an',\n",
       "       'zz', 'gi', 'er'], dtype=object)"
      ]
     },
     "execution_count": 19,
     "metadata": {},
     "output_type": "execute_result"
    }
   ],
   "source": [
    "df_train.pais.unique()"
   ]
  },
  {
   "cell_type": "code",
   "execution_count": 20,
   "metadata": {},
   "outputs": [
    {
     "data": {
      "text/plain": [
       "array(['my', 'rs', 'ke', 'África do Sul', 'Índia', 'lk', 'Tailândia',\n",
       "       'cn', 'ae', 'sg', 'Indonésia', 'sa', 'pk', 'ma', 'Nigéria', 'tr',\n",
       "       'de', 'lb', 'ye', 'bn', 'Estados Unidos', 'qa', 'bd', 'vn', 'ir',\n",
       "       'eg', 'om', 'az', 'ro', 'np', 'uk', 'Sudão', 'Rússia', 'gt', 'kw',\n",
       "       'et', 'ca', 'ph', 'no', 'tz', 'ly', 'eu', 'nz', 'hk', 'bh', 'es',\n",
       "       'kz', 'Austrália', 'kg', 'tn', 'jo', 'mv', 'gh', 'pl', 'hr', 'ml',\n",
       "       'jp', 'tw', 'ar', 'na', 'ao', 'sz', 'dz', 'mw', 'lt', 'se', 'ls',\n",
       "       'be', 'br', 'dj', 'at', 'md', 'uz', 've', 'kh', 'pa', 'Paraguai',\n",
       "       'cz', 'it', 'so', 'fr', 'dk', 'ua', 'ge', 'af', 'nl', 'mn', 'bt',\n",
       "       'co', 'zw', 'ci', 'gq', 'cv', 'mu', 'gr', 'mz', 'me', 'ug', 'si',\n",
       "       'sc', 'ch', 'ie', 'sl', 'hu', 'zm', 'lr', 'rw', 'bj', 'ec', 'ba',\n",
       "       'cy', 'al', 'ne', 'pt', 'mc', 'cm', 'mr', 'mk', 'mg', 'td', 'iq',\n",
       "       'bf', 'pe', 'bi', 'gm', 'by', 'bg', 'sk', 'bw', 'bo', 'am', 'ga',\n",
       "       'sn', 'ee', 'tg', 'lu', 'mx', 'il', 'mm', 'tt', 'cd', 'tj', 'cr',\n",
       "       'sv', 'is', 'ht', 'mt', 'jm', 'cl', 'la', 'hn', 'ws', 'pg', 'fj',\n",
       "       'fi', 'kr', 'tl', 'ni', 'uy', 'pr', 'ad', 'cg', 'sy', 'bb', 'do',\n",
       "       'mo', 'zz', 'lv', 'ps', 'sr', 'ag', 'bm', 're', 'sb', 'gu', 'tm',\n",
       "       'gl', 'bs'], dtype=object)"
      ]
     },
     "execution_count": 20,
     "metadata": {},
     "output_type": "execute_result"
    }
   ],
   "source": [
    "df_test.pais.unique()"
   ]
  },
  {
   "cell_type": "markdown",
   "metadata": {},
   "source": [
    "### 1.8 Dispositivo\n"
   ]
  },
  {
   "cell_type": "code",
   "execution_count": 21,
   "metadata": {},
   "outputs": [
    {
     "data": {
      "text/plain": [
       "array(['phone61', 'phone542', 'phone59', ..., 'phone7042', 'phone6921',\n",
       "       'phone4883'], dtype=object)"
      ]
     },
     "execution_count": 21,
     "metadata": {},
     "output_type": "execute_result"
    }
   ],
   "source": [
    "df_train.dispositivo.unique()"
   ]
  },
  {
   "cell_type": "code",
   "execution_count": 22,
   "metadata": {},
   "outputs": [
    {
     "data": {
      "text/plain": [
       "5391"
      ]
     },
     "execution_count": 22,
     "metadata": {},
     "output_type": "execute_result"
    }
   ],
   "source": [
    "df_train.dispositivo.nunique()"
   ]
  },
  {
   "cell_type": "markdown",
   "metadata": {},
   "source": [
    "### 1.9 Mercadoria"
   ]
  },
  {
   "cell_type": "code",
   "execution_count": 23,
   "metadata": {},
   "outputs": [
    {
     "data": {
      "text/plain": [
       "array(['joias', 'móveis', 'bens domésticos', 'artigos esportivos',\n",
       "       'equipamentos de escritório', 'livros e música', 'computadores',\n",
       "       'vestuário', 'peças de automóveis'], dtype=object)"
      ]
     },
     "execution_count": 23,
     "metadata": {},
     "output_type": "execute_result"
    }
   ],
   "source": [
    "df_train.mercadoria.unique()"
   ]
  },
  {
   "cell_type": "markdown",
   "metadata": {},
   "source": [
    "### 1.10 URL"
   ]
  },
  {
   "cell_type": "code",
   "execution_count": 24,
   "metadata": {},
   "outputs": [
    {
     "data": {
      "text/plain": [
       "535408"
      ]
     },
     "execution_count": 24,
     "metadata": {},
     "output_type": "execute_result"
    }
   ],
   "source": [
    "df_train.url.nunique()"
   ]
  },
  {
   "cell_type": "markdown",
   "metadata": {},
   "source": [
    "## 2. FEATURE ENGINEERING"
   ]
  },
  {
   "cell_type": "code",
   "execution_count": 25,
   "metadata": {},
   "outputs": [
    {
     "data": {
      "text/html": [
       "<div>\n",
       "<style scoped>\n",
       "    .dataframe tbody tr th:only-of-type {\n",
       "        vertical-align: middle;\n",
       "    }\n",
       "\n",
       "    .dataframe tbody tr th {\n",
       "        vertical-align: top;\n",
       "    }\n",
       "\n",
       "    .dataframe thead th {\n",
       "        text-align: right;\n",
       "    }\n",
       "</style>\n",
       "<table border=\"1\" class=\"dataframe\">\n",
       "  <thead>\n",
       "    <tr style=\"text-align: right;\">\n",
       "      <th></th>\n",
       "      <th>267124</th>\n",
       "    </tr>\n",
       "  </thead>\n",
       "  <tbody>\n",
       "    <tr>\n",
       "      <th>id_participante</th>\n",
       "      <td>197e90906939267ace2422e78e8e83889znqp</td>\n",
       "    </tr>\n",
       "    <tr>\n",
       "      <th>conta_pagamento</th>\n",
       "      <td>faef6512727719c3dd147a06ba951c947c4fn</td>\n",
       "    </tr>\n",
       "    <tr>\n",
       "      <th>endereco</th>\n",
       "      <td>dd7151709002fc3dce968916d8ec00ede03vc</td>\n",
       "    </tr>\n",
       "    <tr>\n",
       "      <th>resultado</th>\n",
       "      <td>0</td>\n",
       "    </tr>\n",
       "    <tr>\n",
       "      <th>id_lance</th>\n",
       "      <td>6867953</td>\n",
       "    </tr>\n",
       "    <tr>\n",
       "      <th>leilao</th>\n",
       "      <td>cz87a</td>\n",
       "    </tr>\n",
       "    <tr>\n",
       "      <th>mercadoria</th>\n",
       "      <td>bens domésticos</td>\n",
       "    </tr>\n",
       "    <tr>\n",
       "      <th>dispositivo</th>\n",
       "      <td>phone2</td>\n",
       "    </tr>\n",
       "    <tr>\n",
       "      <th>tempo</th>\n",
       "      <td>1970-04-23 07:46:24.842105263</td>\n",
       "    </tr>\n",
       "    <tr>\n",
       "      <th>pais</th>\n",
       "      <td>ru</td>\n",
       "    </tr>\n",
       "    <tr>\n",
       "      <th>ip</th>\n",
       "      <td>178.148.23.238</td>\n",
       "    </tr>\n",
       "    <tr>\n",
       "      <th>url</th>\n",
       "      <td>vasstdc27m7nks3</td>\n",
       "    </tr>\n",
       "    <tr>\n",
       "      <th>dia</th>\n",
       "      <td>23</td>\n",
       "    </tr>\n",
       "    <tr>\n",
       "      <th>hora</th>\n",
       "      <td>7</td>\n",
       "    </tr>\n",
       "    <tr>\n",
       "      <th>minuto</th>\n",
       "      <td>46</td>\n",
       "    </tr>\n",
       "    <tr>\n",
       "      <th>segundo</th>\n",
       "      <td>24.842105</td>\n",
       "    </tr>\n",
       "    <tr>\n",
       "      <th>primeiro_octeto_ip</th>\n",
       "      <td>178</td>\n",
       "    </tr>\n",
       "    <tr>\n",
       "      <th>segundo_octeto_ip</th>\n",
       "      <td>148</td>\n",
       "    </tr>\n",
       "    <tr>\n",
       "      <th>contagem_participante</th>\n",
       "      <td>236413</td>\n",
       "    </tr>\n",
       "    <tr>\n",
       "      <th>contagem_leilao</th>\n",
       "      <td>1344</td>\n",
       "    </tr>\n",
       "    <tr>\n",
       "      <th>contagem_conta_pagamento</th>\n",
       "      <td>236413</td>\n",
       "    </tr>\n",
       "    <tr>\n",
       "      <th>frequencia_dispositivo</th>\n",
       "      <td>58773</td>\n",
       "    </tr>\n",
       "    <tr>\n",
       "      <th>horario_principal</th>\n",
       "      <td>0</td>\n",
       "    </tr>\n",
       "    <tr>\n",
       "      <th>ip_classe</th>\n",
       "      <td>Classe B</td>\n",
       "    </tr>\n",
       "  </tbody>\n",
       "</table>\n",
       "</div>"
      ],
      "text/plain": [
       "                                                         267124\n",
       "id_participante           197e90906939267ace2422e78e8e83889znqp\n",
       "conta_pagamento           faef6512727719c3dd147a06ba951c947c4fn\n",
       "endereco                  dd7151709002fc3dce968916d8ec00ede03vc\n",
       "resultado                                                     0\n",
       "id_lance                                                6867953\n",
       "leilao                                                    cz87a\n",
       "mercadoria                                      bens domésticos\n",
       "dispositivo                                              phone2\n",
       "tempo                             1970-04-23 07:46:24.842105263\n",
       "pais                                                         ru\n",
       "ip                                               178.148.23.238\n",
       "url                                             vasstdc27m7nks3\n",
       "dia                                                          23\n",
       "hora                                                          7\n",
       "minuto                                                       46\n",
       "segundo                                               24.842105\n",
       "primeiro_octeto_ip                                          178\n",
       "segundo_octeto_ip                                           148\n",
       "contagem_participante                                    236413\n",
       "contagem_leilao                                            1344\n",
       "contagem_conta_pagamento                                 236413\n",
       "frequencia_dispositivo                                    58773\n",
       "horario_principal                                             0\n",
       "ip_classe                                              Classe B"
      ]
     },
     "execution_count": 25,
     "metadata": {},
     "output_type": "execute_result"
    }
   ],
   "source": [
    "fe = FeatureEngineering()\n",
    "df_train = fe.transform(df_train)\n",
    "\n",
    "df_train.sample().T"
   ]
  },
  {
   "cell_type": "markdown",
   "metadata": {},
   "source": [
    "**Novas Features**\n",
    "\n",
    "- **dia**: Dia da operação no leilão\n",
    "- **hora**: Hora da operação no leilão\n",
    "- **minuto**: Minuto da operação no leilão\n",
    "- **segundo**: Segundo da operação no leilão\n",
    "- **primeiro_octeto_ip**: O primeiro octeto do IP do participante\n",
    "- **segundo_octeto_ip**: O segundo octeto do IP do participante\n",
    "- **contagem_participante**: O número de lances feitos pelo participante\n",
    "- **contagem_leilao**: O número de lances feitos no leilão\n",
    "- **contagem_conta_pagamento**: O número de lances feitos pela conta de pagamento\n",
    "- **frequencia_dispositivo**: A frequência do dispositivo utilizado pelo participante\n",
    "- **horario_principal**: Se o horário da operação é o horário principal (entre 9h e 17h)\n",
    "- **ip_classe**: A classe do IP do participante"
   ]
  },
  {
   "cell_type": "code",
   "execution_count": null,
   "metadata": {},
   "outputs": [],
   "source": [
    "def mode(series):\n",
    "    return series.mode()[0] if not series.mode().empty else None\n",
    "\n",
    "# Calcular o número de lances por leilão para cada participante\n",
    "lances_por_leilao = df_lances.groupby(['id_participante', 'leilao']).size().reset_index(name='num_lances')\n",
    "\n",
    "# Calcular as estatísticas dos lances por leilão para cada participante\n",
    "estatisticas_lances = lances_por_leilao.groupby('id_participante')['num_lances'].agg(['min', 'max', 'mean']).reset_index()\n",
    "estatisticas_lances = estatisticas_lances.rename(columns={\n",
    "    'min': 'min_lances_leilao',\n",
    "    'max': 'max_lances_leilao',\n",
    "    'mean': 'mean_lances_leilao'\n",
    "})\n",
    "\n",
    "# Calcular o número total de leilões únicos em que cada participante participou\n",
    "total_leiloes = df_lances.groupby('id_participante')['leilao'].nunique().reset_index(name='total_leiloes')\n",
    "\n",
    "# Calcular as estatísticas de tempo para cada participante\n",
    "estatisticas_tempo = df_lances.groupby('id_participante')['tempo'].agg(['min', 'max', 'mean']).reset_index()\n",
    "estatisticas_tempo = estatisticas_tempo.rename(columns={\n",
    "    'min': 'min_tempo',\n",
    "    'max': 'max_tempo',\n",
    "    'mean': 'mean_tempo'\n",
    "})\n",
    "\n",
    "# Agrupar por id_participante e calcular estatísticas para mercadoria\n",
    "mercadoria_stats = df_lances.groupby('id_participante')['mercadoria'].agg(\n",
    "    total_mercadorias='nunique', \n",
    "    mercadoria_mais_frequente=mode\n",
    ").reset_index()\n",
    "\n",
    "# Agrupar por id_participante e calcular estatísticas para dispositivo\n",
    "dispositivo_stats = df_lances.groupby('id_participante')['dispositivo'].agg(\n",
    "    dispositivo_mais_usado=mode, \n",
    "    total_dispositivos='nunique'\n",
    ").reset_index()\n",
    "\n",
    "# Agrupar por id_participante e calcular estatísticas para pais\n",
    "pais_stats = df_lances.groupby('id_participante')['pais'].agg(\n",
    "    total_paises='nunique', \n",
    "    pais_mais_frequente=mode\n",
    ").reset_index()\n",
    "\n",
    "# Agrupar por id_participante e calcular estatísticas para ip\n",
    "ip_stats = df_lances.groupby('id_participante')['ip'].agg(\n",
    "    total_ips='nunique', \n",
    "    ip_mais_frequente=mode\n",
    ").reset_index()\n",
    "\n",
    "# Agrupar por id_participante e calcular estatísticas para url\n",
    "url_stats = df_lances.groupby('id_participante')['url'].agg(\n",
    "    total_urls='nunique', \n",
    "    url_mais_frequente=mode\n",
    ").reset_index()"
   ]
  },
  {
   "cell_type": "markdown",
   "metadata": {},
   "source": []
  }
 ],
 "metadata": {
  "kernelspec": {
   "display_name": ".venv",
   "language": "python",
   "name": "python3"
  },
  "language_info": {
   "codemirror_mode": {
    "name": "ipython",
    "version": 3
   },
   "file_extension": ".py",
   "mimetype": "text/x-python",
   "name": "python",
   "nbconvert_exporter": "python",
   "pygments_lexer": "ipython3",
   "version": "3.12.2"
  }
 },
 "nbformat": 4,
 "nbformat_minor": 2
}
