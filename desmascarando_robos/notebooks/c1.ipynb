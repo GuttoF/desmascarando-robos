{
 "cells": [
  {
   "cell_type": "markdown",
   "metadata": {},
   "source": [
    "# Desmascarando Robôs\n",
    "### CRISP-DM Cycle 1\n",
    "---\n",
    "\n",
    "Imagine um mercado online, um palco digital onde diversos leilões se desenrolam a cada segundo. Neste ambiente, participantes do mundo inteiram lançam seus lances em busca de objetos desejados, desde joias até equipamentos tecnológicos. No entanto, nem todos os jogadores neste campo são humanos; alguns são robôs programados para manipular os resultados dos leilões.\n",
    "\n",
    "Seu desafio é se aprofundar nesses dados, explorar as camadas de atividade nos leilões e conseguir construir um modelo que saiba muito bem diferenciar humanos de robôs.\n",
    "\n",
    "> Disclaimer: This is a fictional bussiness cas"
   ]
  },
  {
   "cell_type": "markdown",
   "metadata": {},
   "source": [
    "## 0. PREPARATION"
   ]
  },
  {
   "cell_type": "markdown",
   "metadata": {},
   "source": [
    "### 0.1 Settings"
   ]
  },
  {
   "cell_type": "code",
   "execution_count": 1,
   "metadata": {},
   "outputs": [],
   "source": [
    "# Settings imports\n",
    "import os\n",
    "import sys\n",
    "import pandas as pd\n",
    "import pyarrow as pa\n",
    "import pyarrow.feather as feather\n",
    "from dotenv import load_dotenv\n",
    "\n",
    "# Load .env file\n",
    "env_path = \"../.env\"\n",
    "load_dotenv(dotenv_path=env_path)\n",
    "\n",
    "# Seed\n",
    "seed = int(os.getenv(\"SEED\"))\n",
    "\n",
    "# Add path\n",
    "path = os.getenv(\"HOMEPATH\")\n",
    "\n",
    "# Add path to sys.path\n",
    "sys.path.append(path)"
   ]
  },
  {
   "cell_type": "code",
   "execution_count": 2,
   "metadata": {},
   "outputs": [],
   "source": [
    "# import helper.functions.descriptive_statistics as ds\n",
    "\n",
    "# from helper.classes.FeatureSelection import FeatureSelection\n",
    "# from helper.classes.MLPipeline import MLPipeline, MLPipelineCV"
   ]
  },
  {
   "cell_type": "markdown",
   "metadata": {},
   "source": [
    "### 0.2 Data"
   ]
  },
  {
   "cell_type": "markdown",
   "metadata": {},
   "source": [
    "**Train e Test**\n",
    "\n",
    "- **id_participante**: Identificador único do participante\n",
    "- **conta_pagamento**: Conta de pagamento associada ao participante (com o valor ocultado)\n",
    "- **endereco**: Endereço postal do participante\n",
    "- **resultado**: A variável alvo que identifica se o participante é um robô ou um humano. (Robô = 1 e Humano = 0). (*target*)\n",
    "\n",
    "- **Robôs Confirmados**: Participantes com provas claras de atividades fraudulentas, resultando em banimento da plataforma. São rotulados como robôs no conjunto de dados (resultado = 1).\n",
    "\n",
    "- **Robôs Suspeitos**: Participantes com atividades atípicas ou estatísticas que superam a média, mas sem provas definitivas de fraude. A classificação deles como robôs é incerta.\n",
    "\n",
    "**Lances**\n",
    "\n",
    "- **id_lance**: Identificador único do lance\n",
    "- **id_participante**: Identificador único do participante\n",
    "- **leilao**: Identificador único do leilão\n",
    "- **mercadoria**: A categoria da mercadoria leiloada\n",
    "- **dispositivo**: O dispositivo utilizado pelo visitante\n",
    "- **tempo**: O tempo que o lance foi feito\n",
    "- **pais**: O país que o IP pertence\n",
    "- **ip**: O IP do participante\n",
    "- **url**: A URL de onde o participante foi referido"
   ]
  },
  {
   "cell_type": "code",
   "execution_count": 3,
   "metadata": {},
   "outputs": [],
   "source": [
    "from helper.classes.Queries import DuckQueries\n",
    "\n",
    "qb = DuckQueries()\n",
    "conn = qb.get_connection(path + \"/data/interim/data.db\")\n",
    "\n",
    "# Train\n",
    "query_train = qb.select(\"*\").from_table(\"train\").build()\n",
    "train = conn.execute(query_train).df()\n",
    "\n",
    "# Test\n",
    "query_test = qb.select(\"*\").from_table(\"test\").build()\n",
    "test = conn.execute(query_test).df()\n",
    "\n",
    "# Lances\n",
    "query_lances = qb.select(\"*\").from_table(\"lances\").build()\n",
    "df_lances = conn.execute(query_lances).df()\n",
    "\n",
    "# Concatenate train and test\n",
    "df = pd.concat([train, test], ignore_index=True)\n",
    "\n",
    "# Join train with lances in id_participante\n",
    "df_train = train.merge(df_lances, on=\"id_participante\", how=\"left\")\n",
    "df_train = pa.Table.from_pandas(df_train)\n",
    "\n",
    "# Join test with lances in id_participante\n",
    "df_test = test.merge(df_lances, on=\"id_participante\", how=\"left\")\n",
    "df_test = pa.Table.from_pandas(df_test)\n",
    "\n",
    "# Join df with lances in id_participante\n",
    "data = df.merge(df_lances, on=\"id_participante\", how=\"left\")\n",
    "data = pa.Table.from_pandas(data)\n",
    "\n",
    "# Save data as feather\n",
    "feather.write_feather(df_train, path + \"/data/interim/df_train.feather\")\n",
    "feather.write_feather(df_test, path + \"/data/interim/df_test.feather\")\n",
    "feather.write_feather(data, path + \"/data/interim/data.feather\")"
   ]
  },
  {
   "cell_type": "markdown",
   "metadata": {},
   "source": [
    "## 1. DATA UNDERSTANDING"
   ]
  },
  {
   "cell_type": "markdown",
   "metadata": {},
   "source": [
    "### 1.1 Loading Data"
   ]
  },
  {
   "cell_type": "code",
   "execution_count": 4,
   "metadata": {},
   "outputs": [],
   "source": [
    "data = pd.read_feather(path + \"/data/interim/data.feather\")"
   ]
  },
  {
   "cell_type": "markdown",
   "metadata": {},
   "source": [
    "### 1.2 Data Understanding"
   ]
  },
  {
   "cell_type": "markdown",
   "metadata": {},
   "source": [
    "#### 1.2.1 Shape"
   ]
  },
  {
   "cell_type": "code",
   "execution_count": 5,
   "metadata": {},
   "outputs": [
    {
     "name": "stdout",
     "output_type": "stream",
     "text": [
      "O dataset possui 3071253 linhas e 12 colunas\n",
      "\n"
     ]
    }
   ],
   "source": [
    "\n",
    "print(f\"O dataset possui {data.shape[0]} linhas e {data.shape[1]} colunas\\n\")\n"
   ]
  },
  {
   "cell_type": "markdown",
   "metadata": {},
   "source": [
    "#### 1.2.2 Data Types"
   ]
  },
  {
   "cell_type": "code",
   "execution_count": 6,
   "metadata": {},
   "outputs": [
    {
     "data": {
      "text/plain": [
       "id_participante     object\n",
       "conta_pagamento     object\n",
       "endereco            object\n",
       "resultado          float64\n",
       "id_lance           float64\n",
       "leilao              object\n",
       "mercadoria          object\n",
       "dispositivo         object\n",
       "tempo              float64\n",
       "pais                object\n",
       "ip                  object\n",
       "url                 object\n",
       "dtype: object"
      ]
     },
     "execution_count": 6,
     "metadata": {},
     "output_type": "execute_result"
    }
   ],
   "source": [
    "data.dtypes"
   ]
  },
  {
   "cell_type": "markdown",
   "metadata": {},
   "source": [
    "#### 1.2.3 NA"
   ]
  },
  {
   "cell_type": "code",
   "execution_count": 7,
   "metadata": {},
   "outputs": [
    {
     "data": {
      "text/plain": [
       "id_participante         0\n",
       "conta_pagamento         0\n",
       "endereco                0\n",
       "resultado          536912\n",
       "id_lance               29\n",
       "leilao                 29\n",
       "mercadoria             29\n",
       "dispositivo            29\n",
       "tempo                  29\n",
       "pais                 2730\n",
       "ip                     29\n",
       "url                    29\n",
       "dtype: int64"
      ]
     },
     "execution_count": 7,
     "metadata": {},
     "output_type": "execute_result"
    }
   ],
   "source": [
    "# check for missing values\n",
    "data.isnull().sum()"
   ]
  },
  {
   "cell_type": "code",
   "execution_count": 8,
   "metadata": {},
   "outputs": [
    {
     "data": {
      "text/plain": [
       "id_participante      0\n",
       "conta_pagamento      0\n",
       "endereco             0\n",
       "resultado          604\n",
       "dtype: int64"
      ]
     },
     "execution_count": 8,
     "metadata": {},
     "output_type": "execute_result"
    }
   ],
   "source": [
    "df.isnull().sum()"
   ]
  },
  {
   "cell_type": "code",
   "execution_count": 9,
   "metadata": {},
   "outputs": [
    {
     "ename": "AttributeError",
     "evalue": "'pyarrow.lib.Table' object has no attribute 'isnull'",
     "output_type": "error",
     "traceback": [
      "\u001b[0;31m---------------------------------------------------------------------------\u001b[0m",
      "\u001b[0;31mAttributeError\u001b[0m                            Traceback (most recent call last)",
      "Cell \u001b[0;32mIn[9], line 1\u001b[0m\n\u001b[0;32m----> 1\u001b[0m \u001b[43mdf_train\u001b[49m\u001b[38;5;241;43m.\u001b[39;49m\u001b[43misnull\u001b[49m()\u001b[38;5;241m.\u001b[39msum()\n",
      "\u001b[0;31mAttributeError\u001b[0m: 'pyarrow.lib.Table' object has no attribute 'isnull'"
     ]
    }
   ],
   "source": [
    "df_train.isnull().sum()"
   ]
  },
  {
   "cell_type": "code",
   "execution_count": null,
   "metadata": {},
   "outputs": [],
   "source": [
    "df_test.isnull().sum()"
   ]
  },
  {
   "cell_type": "code",
   "execution_count": 10,
   "metadata": {},
   "outputs": [
    {
     "data": {
      "text/plain": [
       "id_participante    0\n",
       "conta_pagamento    0\n",
       "endereco           0\n",
       "resultado          0\n",
       "dtype: int64"
      ]
     },
     "execution_count": 10,
     "metadata": {},
     "output_type": "execute_result"
    }
   ],
   "source": [
    "train.isnull().sum()"
   ]
  },
  {
   "cell_type": "code",
   "execution_count": 11,
   "metadata": {},
   "outputs": [
    {
     "data": {
      "text/plain": [
       "id_participante    0\n",
       "conta_pagamento    0\n",
       "endereco           0\n",
       "dtype: int64"
      ]
     },
     "execution_count": 11,
     "metadata": {},
     "output_type": "execute_result"
    }
   ],
   "source": [
    "test.isnull().sum()"
   ]
  },
  {
   "cell_type": "code",
   "execution_count": 13,
   "metadata": {},
   "outputs": [
    {
     "data": {
      "text/plain": [
       "id_lance              0\n",
       "id_participante       0\n",
       "leilao                0\n",
       "mercadoria            0\n",
       "dispositivo           0\n",
       "tempo                 0\n",
       "pais               8859\n",
       "ip                    0\n",
       "url                   0\n",
       "dtype: int64"
      ]
     },
     "execution_count": 13,
     "metadata": {},
     "output_type": "execute_result"
    }
   ],
   "source": [
    "df_lances.isnull().sum()"
   ]
  },
  {
   "cell_type": "code",
   "execution_count": null,
   "metadata": {},
   "outputs": [],
   "source": []
  },
  {
   "cell_type": "code",
   "execution_count": null,
   "metadata": {},
   "outputs": [],
   "source": []
  },
  {
   "cell_type": "code",
   "execution_count": null,
   "metadata": {},
   "outputs": [],
   "source": []
  }
 ],
 "metadata": {
  "kernelspec": {
   "display_name": ".venv",
   "language": "python",
   "name": "python3"
  },
  "language_info": {
   "codemirror_mode": {
    "name": "ipython",
    "version": 3
   },
   "file_extension": ".py",
   "mimetype": "text/x-python",
   "name": "python",
   "nbconvert_exporter": "python",
   "pygments_lexer": "ipython3",
   "version": "3.12.2"
  }
 },
 "nbformat": 4,
 "nbformat_minor": 2
}
